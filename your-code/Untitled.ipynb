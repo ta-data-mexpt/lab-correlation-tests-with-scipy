{
 "cells": [
  {
   "cell_type": "code",
   "execution_count": 1,
   "id": "23dc6954-c276-4acb-8dfc-09e08114eeb6",
   "metadata": {},
   "outputs": [],
   "source": [
    "%matplotlib inline\n",
    "import numpy as np\n",
    "import pandas as pd"
   ]
  },
  {
   "cell_type": "code",
   "execution_count": 2,
   "id": "17461369-ac6b-43a3-8ee2-9bc624a8f73b",
   "metadata": {},
   "outputs": [],
   "source": [
    "fifa = pd.read_csv('fifa.csv')"
   ]
  },
  {
   "cell_type": "code",
   "execution_count": 3,
   "id": "efc3d319-9c9d-4f28-9aa8-e55aede3c578",
   "metadata": {},
   "outputs": [],
   "source": [
    "def cleaning(string):\n",
    "    x = string.replace('€', '')\n",
    "    \n",
    "    if x[-1] == 'K':\n",
    "        x = float(x.replace('K', ''))/1_000\n",
    "    \n",
    "    elif x[-1] == 'M':\n",
    "        x = float(x.replace('M', ''))\n",
    "    return x"
   ]
  },
  {
   "cell_type": "code",
   "execution_count": 4,
   "id": "c2a77139-0fcb-4e48-ada9-6b71ab2ca655",
   "metadata": {},
   "outputs": [],
   "source": [
    "fifa['ValueNumeric'] = fifa['Value'].apply(cleaning)\n",
    "fifa['ValueNumeric'] = fifa['ValueNumeric'].astype('float64')"
   ]
  },
  {
   "cell_type": "code",
   "execution_count": null,
   "id": "d66f29a4-a252-4a18-8cc8-ea041f270de6",
   "metadata": {},
   "outputs": [],
   "source": []
  },
  {
   "cell_type": "code",
   "execution_count": null,
   "id": "b94e4e3d-b73a-4ad9-ac5b-51895d6add57",
   "metadata": {},
   "outputs": [],
   "source": []
  },
  {
   "cell_type": "code",
   "execution_count": null,
   "id": "1b9329a8-4739-4f1f-aa1e-907c91701a1d",
   "metadata": {},
   "outputs": [],
   "source": []
  },
  {
   "cell_type": "code",
   "execution_count": null,
   "id": "abb0f01b-3021-44c6-81af-4495037c2337",
   "metadata": {},
   "outputs": [],
   "source": []
  },
  {
   "cell_type": "code",
   "execution_count": null,
   "id": "34fcd31e-d0e4-41af-bcde-01f2e2f2c594",
   "metadata": {},
   "outputs": [],
   "source": []
  },
  {
   "cell_type": "code",
   "execution_count": null,
   "id": "532fd744-45a6-4f3e-899c-cf2a472cbf25",
   "metadata": {},
   "outputs": [],
   "source": []
  }
 ],
 "metadata": {
  "kernelspec": {
   "display_name": "Python 3 (ipykernel)",
   "language": "python",
   "name": "python3"
  },
  "language_info": {
   "codemirror_mode": {
    "name": "ipython",
    "version": 3
   },
   "file_extension": ".py",
   "mimetype": "text/x-python",
   "name": "python",
   "nbconvert_exporter": "python",
   "pygments_lexer": "ipython3",
   "version": "3.9.12"
  }
 },
 "nbformat": 4,
 "nbformat_minor": 5
}
