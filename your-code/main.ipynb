{
 "cells": [
  {
   "cell_type": "markdown",
   "metadata": {},
   "source": [
    "# Before your start:\n",
    "- Read the README.md file\n",
    "- Comment as much as you can and use the resources (README.md file)\n",
    "- Happy learning!"
   ]
  },
  {
   "cell_type": "code",
   "execution_count": 1,
   "metadata": {},
   "outputs": [],
   "source": [
    "import pandas as pd\n",
    "import numpy as np\n",
    "import statsmodels.api as sm\n",
    "\n",
    "from statsmodels.formula.api import ols"
   ]
  },
  {
   "cell_type": "markdown",
   "metadata": {},
   "source": [
    "# Challenge 1 - Analysis of Variance\n",
    "\n",
    "In this part of the lesson, we will perform an analysis of variance to determine whether the factors in our model create a significant difference in the group means. We will be examining a dataset of FIFA players. We'll start by loading the data using the code in the cell below."
   ]
  },
  {
   "cell_type": "code",
   "execution_count": 2,
   "metadata": {},
   "outputs": [],
   "source": [
    "# Run this code:\n",
    "fifa = pd.read_csv('fifa.csv')"
   ]
  },
  {
   "cell_type": "markdown",
   "metadata": {},
   "source": [
    "Let's examine the dataset by looking at the `head`."
   ]
  },
  {
   "cell_type": "code",
   "execution_count": 3,
   "metadata": {},
   "outputs": [
    {
     "output_type": "execute_result",
     "data": {
      "text/plain": "                Name  Age Nationality  Overall  Potential  \\\n0           L. Messi   31   Argentina       94         94   \n1  Cristiano Ronaldo   33    Portugal       94         94   \n2          Neymar Jr   26      Brazil       92         93   \n3             De Gea   27       Spain       91         93   \n4       K. De Bruyne   27     Belgium       91         92   \n\n                  Club    Value Preferred Foot Position  Weak Foot  \\\n0         FC Barcelona  €110.5M           Left       RF        4.0   \n1             Juventus     €77M          Right       ST        4.0   \n2  Paris Saint-Germain  €118.5M          Right       LW        5.0   \n3    Manchester United     €72M          Right       GK        3.0   \n4      Manchester City    €102M          Right      RCM        5.0   \n\n   Acceleration  SprintSpeed  Stamina  Strength  LongShots  Aggression  \\\n0          91.0         86.0     72.0      59.0       94.0        48.0   \n1          89.0         91.0     88.0      79.0       93.0        63.0   \n2          94.0         90.0     81.0      49.0       82.0        56.0   \n3          57.0         58.0     43.0      64.0       12.0        38.0   \n4          78.0         76.0     90.0      75.0       91.0        76.0   \n\n   Interceptions  Positioning  Vision  Penalties  \n0           22.0         94.0    94.0       75.0  \n1           29.0         95.0    82.0       85.0  \n2           36.0         89.0    87.0       81.0  \n3           30.0         12.0    68.0       40.0  \n4           61.0         87.0    94.0       79.0  ",
      "text/html": "<div>\n<style scoped>\n    .dataframe tbody tr th:only-of-type {\n        vertical-align: middle;\n    }\n\n    .dataframe tbody tr th {\n        vertical-align: top;\n    }\n\n    .dataframe thead th {\n        text-align: right;\n    }\n</style>\n<table border=\"1\" class=\"dataframe\">\n  <thead>\n    <tr style=\"text-align: right;\">\n      <th></th>\n      <th>Name</th>\n      <th>Age</th>\n      <th>Nationality</th>\n      <th>Overall</th>\n      <th>Potential</th>\n      <th>Club</th>\n      <th>Value</th>\n      <th>Preferred Foot</th>\n      <th>Position</th>\n      <th>Weak Foot</th>\n      <th>Acceleration</th>\n      <th>SprintSpeed</th>\n      <th>Stamina</th>\n      <th>Strength</th>\n      <th>LongShots</th>\n      <th>Aggression</th>\n      <th>Interceptions</th>\n      <th>Positioning</th>\n      <th>Vision</th>\n      <th>Penalties</th>\n    </tr>\n  </thead>\n  <tbody>\n    <tr>\n      <th>0</th>\n      <td>L. Messi</td>\n      <td>31</td>\n      <td>Argentina</td>\n      <td>94</td>\n      <td>94</td>\n      <td>FC Barcelona</td>\n      <td>€110.5M</td>\n      <td>Left</td>\n      <td>RF</td>\n      <td>4.0</td>\n      <td>91.0</td>\n      <td>86.0</td>\n      <td>72.0</td>\n      <td>59.0</td>\n      <td>94.0</td>\n      <td>48.0</td>\n      <td>22.0</td>\n      <td>94.0</td>\n      <td>94.0</td>\n      <td>75.0</td>\n    </tr>\n    <tr>\n      <th>1</th>\n      <td>Cristiano Ronaldo</td>\n      <td>33</td>\n      <td>Portugal</td>\n      <td>94</td>\n      <td>94</td>\n      <td>Juventus</td>\n      <td>€77M</td>\n      <td>Right</td>\n      <td>ST</td>\n      <td>4.0</td>\n      <td>89.0</td>\n      <td>91.0</td>\n      <td>88.0</td>\n      <td>79.0</td>\n      <td>93.0</td>\n      <td>63.0</td>\n      <td>29.0</td>\n      <td>95.0</td>\n      <td>82.0</td>\n      <td>85.0</td>\n    </tr>\n    <tr>\n      <th>2</th>\n      <td>Neymar Jr</td>\n      <td>26</td>\n      <td>Brazil</td>\n      <td>92</td>\n      <td>93</td>\n      <td>Paris Saint-Germain</td>\n      <td>€118.5M</td>\n      <td>Right</td>\n      <td>LW</td>\n      <td>5.0</td>\n      <td>94.0</td>\n      <td>90.0</td>\n      <td>81.0</td>\n      <td>49.0</td>\n      <td>82.0</td>\n      <td>56.0</td>\n      <td>36.0</td>\n      <td>89.0</td>\n      <td>87.0</td>\n      <td>81.0</td>\n    </tr>\n    <tr>\n      <th>3</th>\n      <td>De Gea</td>\n      <td>27</td>\n      <td>Spain</td>\n      <td>91</td>\n      <td>93</td>\n      <td>Manchester United</td>\n      <td>€72M</td>\n      <td>Right</td>\n      <td>GK</td>\n      <td>3.0</td>\n      <td>57.0</td>\n      <td>58.0</td>\n      <td>43.0</td>\n      <td>64.0</td>\n      <td>12.0</td>\n      <td>38.0</td>\n      <td>30.0</td>\n      <td>12.0</td>\n      <td>68.0</td>\n      <td>40.0</td>\n    </tr>\n    <tr>\n      <th>4</th>\n      <td>K. De Bruyne</td>\n      <td>27</td>\n      <td>Belgium</td>\n      <td>91</td>\n      <td>92</td>\n      <td>Manchester City</td>\n      <td>€102M</td>\n      <td>Right</td>\n      <td>RCM</td>\n      <td>5.0</td>\n      <td>78.0</td>\n      <td>76.0</td>\n      <td>90.0</td>\n      <td>75.0</td>\n      <td>91.0</td>\n      <td>76.0</td>\n      <td>61.0</td>\n      <td>87.0</td>\n      <td>94.0</td>\n      <td>79.0</td>\n    </tr>\n  </tbody>\n</table>\n</div>"
     },
     "metadata": {},
     "execution_count": 3
    }
   ],
   "source": [
    "# Your code here:\n",
    "fifa.head()"
   ]
  },
  {
   "cell_type": "markdown",
   "metadata": {},
   "source": [
    "Player's values are expressed in millions of euros. We would like this column to be numeric. Therefore, let's create a numeric value column. Do this by stripping all non-numeric characters from each cell. Assign this new data to `ValueNumeric`. There is no need to multiply the value to be expressed in millions. "
   ]
  },
  {
   "cell_type": "code",
   "execution_count": 4,
   "metadata": {},
   "outputs": [
    {
     "output_type": "execute_result",
     "data": {
      "text/plain": "0        110.5\n1         77.0\n2        118.5\n3         72.0\n4        102.0\n         ...  \n18202     60.0\n18203     60.0\n18204     60.0\n18205     60.0\n18206     60.0\nName: ValuesNumeric, Length: 18207, dtype: float64"
     },
     "metadata": {},
     "execution_count": 4
    }
   ],
   "source": [
    "# Your code here:\n",
    "codification = lambda x: float(x.replace('€', '').replace('M', '').replace('K',''))\n",
    "fifa['ValuesNumeric'] = fifa['Value'].apply(codification)\n",
    "fifa['ValuesNumeric']"
   ]
  },
  {
   "cell_type": "markdown",
   "metadata": {},
   "source": [
    "#### We'd like to determine whether a player's preffered foot and position have an impact on their value. \n",
    "\n",
    "Using the `statsmodels` library, we are able to produce an ANOVA table without munging our data. Create an ANOVA table with value as a function of position and preferred foot. Recall that pivoting is performed by the `C` function.\n",
    "\n",
    "Hint: For columns that have a space in their name, it is best to refer to the column using the dataframe (For example: for column `A`, we will use `df['A']`)."
   ]
  },
  {
   "cell_type": "code",
   "execution_count": 15,
   "metadata": {},
   "outputs": [
    {
     "output_type": "execute_result",
     "data": {
      "text/plain": "                         sum_sq       df         F        PR(>F)\nC(Position)        8.767522e+06     26.0  4.031426  2.192419e-11\nC(Preferred_Foot)  7.292211e+04      1.0  0.871795  3.504713e-01\nResidual           1.515581e+09  18119.0       NaN           NaN",
      "text/html": "<div>\n<style scoped>\n    .dataframe tbody tr th:only-of-type {\n        vertical-align: middle;\n    }\n\n    .dataframe tbody tr th {\n        vertical-align: top;\n    }\n\n    .dataframe thead th {\n        text-align: right;\n    }\n</style>\n<table border=\"1\" class=\"dataframe\">\n  <thead>\n    <tr style=\"text-align: right;\">\n      <th></th>\n      <th>sum_sq</th>\n      <th>df</th>\n      <th>F</th>\n      <th>PR(&gt;F)</th>\n    </tr>\n  </thead>\n  <tbody>\n    <tr>\n      <th>C(Position)</th>\n      <td>8.767522e+06</td>\n      <td>26.0</td>\n      <td>4.031426</td>\n      <td>2.192419e-11</td>\n    </tr>\n    <tr>\n      <th>C(Preferred_Foot)</th>\n      <td>7.292211e+04</td>\n      <td>1.0</td>\n      <td>0.871795</td>\n      <td>3.504713e-01</td>\n    </tr>\n    <tr>\n      <th>Residual</th>\n      <td>1.515581e+09</td>\n      <td>18119.0</td>\n      <td>NaN</td>\n      <td>NaN</td>\n    </tr>\n  </tbody>\n</table>\n</div>"
     },
     "metadata": {},
     "execution_count": 15
    }
   ],
   "source": [
    "# First, let's prepare our two-word column for study.\n",
    "fifa = fifa.rename(columns={'Preferred Foot': 'Preferred_Foot'})\n",
    "\n",
    "# Now, let's design the Model. \n",
    "model = ols('ValuesNumeric ~ C(Position) + C(Preferred_Foot)', data=fifa).fit()\n",
    "\n",
    "# Finally, let's lay out the ANOVA table for said Model. \n",
    "anova_table = sm.stats.anova_lm(model, typ=2) \n",
    "anova_table"
   ]
  },
  {
   "cell_type": "markdown",
   "metadata": {},
   "source": [
    "What is your conclusion from this ANOVA?"
   ]
  },
  {
   "cell_type": "code",
   "execution_count": 6,
   "metadata": {},
   "outputs": [],
   "source": [
    "# Your conclusions here:\n",
    "\n",
    "# The F Test tells us the following: \n",
    "# If the F statistic is sufficiently large, this means the p-value will be sufficiently small > Reject the null hypothesis.\n",
    "# Thus > There is a significant variation between the groups.\n",
    "\n",
    "# So, based on this definition we can say that the p-value for Position is sufficiently small to accept that said variable is an important predictor of the Market Value of the Player.\n",
    "\n",
    "# On the contrary, the Preffered Foot variable tells us that there is not a significant capability of Market Value prediction based on this variable. "
   ]
  },
  {
   "cell_type": "markdown",
   "metadata": {},
   "source": [
    "After looking at a model of both preffered foot and position, we decide to create an ANOVA table for nationality. Create an ANOVA table for numeric value as a function of nationality."
   ]
  },
  {
   "cell_type": "code",
   "execution_count": 7,
   "metadata": {},
   "outputs": [],
   "source": [
    "# Your code here:\n"
   ]
  },
  {
   "cell_type": "markdown",
   "metadata": {},
   "source": [
    "What is your conclusion from this ANOVA?"
   ]
  },
  {
   "cell_type": "markdown",
   "metadata": {},
   "source": [
    "# Challenge 2 - Linear Regression\n",
    "\n",
    "Our goal with using linear regression is to create a mathematical model that will enable us to predict the outcome of one variable using one or more additional independent variables.\n",
    "\n",
    "We'll start by ensuring there are no missing values. Examine all variables for all missing values. If there are missing values in a row, remove the entire row."
   ]
  },
  {
   "cell_type": "code",
   "execution_count": 8,
   "metadata": {},
   "outputs": [],
   "source": [
    "# Your code here:\n",
    "\n"
   ]
  },
  {
   "cell_type": "markdown",
   "metadata": {},
   "source": [
    "Using the FIFA dataset, in the cell below, create a linear model predicting value using stamina and sprint speed. create the model using `statsmodels`. Print the model summary.\n",
    "\n",
    "Hint: remember to add an intercept to the model using the `add_constant` function."
   ]
  },
  {
   "cell_type": "code",
   "execution_count": 9,
   "metadata": {},
   "outputs": [],
   "source": [
    "# Your code here:\n",
    "\n"
   ]
  },
  {
   "cell_type": "markdown",
   "metadata": {},
   "source": [
    "Report your findings from the model summary. In particular, report about the model as a whole using the F-test and how much variation is predicted by the model using the r squared."
   ]
  },
  {
   "cell_type": "code",
   "execution_count": 10,
   "metadata": {},
   "outputs": [],
   "source": [
    "# Your conclusions here:\n",
    "\n"
   ]
  },
  {
   "cell_type": "markdown",
   "metadata": {},
   "source": [
    "Next, create a second regression model predicting value using potential. Create the model using `statsmodels` and print the model summary. Remember to add a constant term."
   ]
  },
  {
   "cell_type": "code",
   "execution_count": 11,
   "metadata": {},
   "outputs": [],
   "source": [
    "# Your code here:\n",
    "\n"
   ]
  },
  {
   "cell_type": "markdown",
   "metadata": {},
   "source": [
    "Report your findings from the model summary. In particular, report about the model as a whole using the F-test and how much variation is predicted by the model using the r squared."
   ]
  },
  {
   "cell_type": "code",
   "execution_count": 12,
   "metadata": {},
   "outputs": [],
   "source": [
    "# Your conclusions here:\n",
    "\n"
   ]
  },
  {
   "cell_type": "markdown",
   "metadata": {},
   "source": [
    "Plot a scatter plot of value vs. potential. Do you see a linear relationship?"
   ]
  },
  {
   "cell_type": "code",
   "execution_count": 13,
   "metadata": {},
   "outputs": [],
   "source": [
    "# Your code here:\n",
    "\n"
   ]
  },
  {
   "cell_type": "code",
   "execution_count": null,
   "metadata": {},
   "outputs": [],
   "source": []
  }
 ],
 "metadata": {
  "kernelspec": {
   "display_name": "Python 3.7.6 64-bit ('anaconda3': virtualenv)",
   "language": "python",
   "name": "python37664bitanaconda3virtualenv0697af1ee67a458e9253591065064715"
  },
  "language_info": {
   "codemirror_mode": {
    "name": "ipython",
    "version": 3
   },
   "file_extension": ".py",
   "mimetype": "text/x-python",
   "name": "python",
   "nbconvert_exporter": "python",
   "pygments_lexer": "ipython3",
   "version": "3.7.6-final"
  }
 },
 "nbformat": 4,
 "nbformat_minor": 2
}